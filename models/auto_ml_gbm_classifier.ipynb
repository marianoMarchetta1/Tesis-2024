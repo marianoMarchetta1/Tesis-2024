{
 "cells": [
  {
   "cell_type": "markdown",
   "metadata": {},
   "source": [
    "### Dataset"
   ]
  },
  {
   "cell_type": "code",
   "execution_count": 1,
   "metadata": {},
   "outputs": [
    {
     "name": "stdout",
     "output_type": "stream",
     "text": [
      "Imported auto_timeseries version:0.0.90. Call by using:\n",
      "model = auto_timeseries(score_type='rmse',\n",
      "        time_interval='M', non_seasonal_pdq=None, seasonality=False,\n",
      "        seasonal_period=12, model_type=['best'], verbose=2, dask_xgboost_flag=0)\n",
      "model.fit(traindata, ts_column,target)\n",
      "model.predict(testdata, model='best')\n",
      "\n"
     ]
    }
   ],
   "source": [
    "import pandas as pd\n",
    "from auto_ts import auto_timeseries\n",
    "import dill\n",
    "import talib\n",
    "import numpy as np\n",
    "import warnings\n",
    "\n",
    "warnings.filterwarnings('ignore')\n",
    "\n",
    "from sklearn.model_selection import TimeSeriesSplit\n",
    "from skopt import BayesSearchCV\n",
    "from sklearn.preprocessing import OneHotEncoder, StandardScaler\n",
    "from sklearn.metrics import log_loss\n",
    "from lightgbm import LGBMClassifier\n",
    "from sklearn.ensemble import VotingClassifier"
   ]
  },
  {
   "cell_type": "code",
   "execution_count": 2,
   "metadata": {},
   "outputs": [],
   "source": [
    "# Evito que ciertas columnas se transformen a notacion cientifica en las predicciones\n",
    "pd.set_option('display.float_format', lambda x: '%.2f' % x)\n",
    "pd.set_option('display.max_columns', None)"
   ]
  },
  {
   "cell_type": "code",
   "execution_count": 3,
   "metadata": {},
   "outputs": [],
   "source": [
    "columns = [\n",
    "    # 'Open_time',\n",
    "    # 'Close',\n",
    "    'Open',\n",
    "    'High',\n",
    "    'Low',\n",
    "    'SMA_20',\n",
    "    'EMA_20',\n",
    "    'Upper_Band',\n",
    "    'Middle_Band',\n",
    "    'Lower_Band',\n",
    "    'RSI',\n",
    "    'MACD',\n",
    "    'Signal',\n",
    "    'ADX',\n",
    "    'SlowK',\n",
    "    'SlowD',\n",
    "    'CCI',\n",
    "    'ATR',\n",
    "]"
   ]
  },
  {
   "cell_type": "markdown",
   "metadata": {},
   "source": [
    "### Armado y entrenamiento de un clasificador a partir de los datos originales"
   ]
  },
  {
   "cell_type": "markdown",
   "metadata": {},
   "source": [
    "#### Modelo Light GBM"
   ]
  },
  {
   "cell_type": "code",
   "execution_count": 4,
   "metadata": {},
   "outputs": [],
   "source": [
    "complete_dataset = pd.read_csv('/Users/mmarchetta/Desktop/Tesis-2024/data-visualization/final_dataset.csv') \n",
    "classifier_dataset = complete_dataset[columns]\n",
    "# classifier_dataset['Open_time'] = pd.to_datetime(classifier_dataset['Open_time'])\n",
    "classifier_dataset['Tendencia'] = complete_dataset['Tendencia']\n",
    "\n",
    "clasifier_validation = classifier_dataset[-10:]\n",
    "classifier_dataset = classifier_dataset[:-10]"
   ]
  },
  {
   "cell_type": "code",
   "execution_count": 5,
   "metadata": {},
   "outputs": [
    {
     "data": {
      "text/html": [
       "<div>\n",
       "<style scoped>\n",
       "    .dataframe tbody tr th:only-of-type {\n",
       "        vertical-align: middle;\n",
       "    }\n",
       "\n",
       "    .dataframe tbody tr th {\n",
       "        vertical-align: top;\n",
       "    }\n",
       "\n",
       "    .dataframe thead th {\n",
       "        text-align: right;\n",
       "    }\n",
       "</style>\n",
       "<table border=\"1\" class=\"dataframe\">\n",
       "  <thead>\n",
       "    <tr style=\"text-align: right;\">\n",
       "      <th></th>\n",
       "      <th>Open</th>\n",
       "      <th>High</th>\n",
       "      <th>Low</th>\n",
       "      <th>SMA_20</th>\n",
       "      <th>EMA_20</th>\n",
       "      <th>Upper_Band</th>\n",
       "      <th>Middle_Band</th>\n",
       "      <th>Lower_Band</th>\n",
       "      <th>RSI</th>\n",
       "      <th>MACD</th>\n",
       "      <th>Signal</th>\n",
       "      <th>ADX</th>\n",
       "      <th>SlowK</th>\n",
       "      <th>SlowD</th>\n",
       "      <th>CCI</th>\n",
       "      <th>ATR</th>\n",
       "      <th>Tendencia</th>\n",
       "    </tr>\n",
       "  </thead>\n",
       "  <tbody>\n",
       "    <tr>\n",
       "      <th>941</th>\n",
       "      <td>6.93</td>\n",
       "      <td>7.00</td>\n",
       "      <td>6.70</td>\n",
       "      <td>7.43</td>\n",
       "      <td>7.45</td>\n",
       "      <td>9.08</td>\n",
       "      <td>7.43</td>\n",
       "      <td>5.77</td>\n",
       "      <td>38.83</td>\n",
       "      <td>-0.48</td>\n",
       "      <td>-0.53</td>\n",
       "      <td>33.89</td>\n",
       "      <td>45.65</td>\n",
       "      <td>47.62</td>\n",
       "      <td>-11.66</td>\n",
       "      <td>0.60</td>\n",
       "      <td>Lateral</td>\n",
       "    </tr>\n",
       "    <tr>\n",
       "      <th>942</th>\n",
       "      <td>6.86</td>\n",
       "      <td>6.95</td>\n",
       "      <td>6.71</td>\n",
       "      <td>7.34</td>\n",
       "      <td>7.38</td>\n",
       "      <td>8.94</td>\n",
       "      <td>7.34</td>\n",
       "      <td>5.74</td>\n",
       "      <td>37.81</td>\n",
       "      <td>-0.48</td>\n",
       "      <td>-0.52</td>\n",
       "      <td>34.06</td>\n",
       "      <td>47.38</td>\n",
       "      <td>47.30</td>\n",
       "      <td>-14.45</td>\n",
       "      <td>0.57</td>\n",
       "      <td>Lateral</td>\n",
       "    </tr>\n",
       "    <tr>\n",
       "      <th>943</th>\n",
       "      <td>6.76</td>\n",
       "      <td>6.87</td>\n",
       "      <td>6.51</td>\n",
       "      <td>7.24</td>\n",
       "      <td>7.33</td>\n",
       "      <td>8.73</td>\n",
       "      <td>7.24</td>\n",
       "      <td>5.76</td>\n",
       "      <td>38.57</td>\n",
       "      <td>-0.47</td>\n",
       "      <td>-0.51</td>\n",
       "      <td>34.51</td>\n",
       "      <td>47.54</td>\n",
       "      <td>46.86</td>\n",
       "      <td>-44.81</td>\n",
       "      <td>0.56</td>\n",
       "      <td>Lateral</td>\n",
       "    </tr>\n",
       "    <tr>\n",
       "      <th>944</th>\n",
       "      <td>6.81</td>\n",
       "      <td>6.95</td>\n",
       "      <td>6.69</td>\n",
       "      <td>7.13</td>\n",
       "      <td>7.27</td>\n",
       "      <td>8.38</td>\n",
       "      <td>7.13</td>\n",
       "      <td>5.88</td>\n",
       "      <td>37.66</td>\n",
       "      <td>-0.46</td>\n",
       "      <td>-0.50</td>\n",
       "      <td>34.64</td>\n",
       "      <td>45.17</td>\n",
       "      <td>46.70</td>\n",
       "      <td>-30.25</td>\n",
       "      <td>0.53</td>\n",
       "      <td>Lateral</td>\n",
       "    </tr>\n",
       "    <tr>\n",
       "      <th>945</th>\n",
       "      <td>6.73</td>\n",
       "      <td>6.83</td>\n",
       "      <td>6.47</td>\n",
       "      <td>7.03</td>\n",
       "      <td>7.20</td>\n",
       "      <td>8.08</td>\n",
       "      <td>7.03</td>\n",
       "      <td>5.97</td>\n",
       "      <td>36.02</td>\n",
       "      <td>-0.46</td>\n",
       "      <td>-0.49</td>\n",
       "      <td>35.10</td>\n",
       "      <td>34.26</td>\n",
       "      <td>42.32</td>\n",
       "      <td>-73.58</td>\n",
       "      <td>0.52</td>\n",
       "      <td>Bajista</td>\n",
       "    </tr>\n",
       "  </tbody>\n",
       "</table>\n",
       "</div>"
      ],
      "text/plain": [
       "     Open  High  Low  SMA_20  EMA_20  Upper_Band  Middle_Band  Lower_Band  \\\n",
       "941  6.93  7.00 6.70    7.43    7.45        9.08         7.43        5.77   \n",
       "942  6.86  6.95 6.71    7.34    7.38        8.94         7.34        5.74   \n",
       "943  6.76  6.87 6.51    7.24    7.33        8.73         7.24        5.76   \n",
       "944  6.81  6.95 6.69    7.13    7.27        8.38         7.13        5.88   \n",
       "945  6.73  6.83 6.47    7.03    7.20        8.08         7.03        5.97   \n",
       "\n",
       "      RSI  MACD  Signal   ADX  SlowK  SlowD    CCI  ATR Tendencia  \n",
       "941 38.83 -0.48   -0.53 33.89  45.65  47.62 -11.66 0.60   Lateral  \n",
       "942 37.81 -0.48   -0.52 34.06  47.38  47.30 -14.45 0.57   Lateral  \n",
       "943 38.57 -0.47   -0.51 34.51  47.54  46.86 -44.81 0.56   Lateral  \n",
       "944 37.66 -0.46   -0.50 34.64  45.17  46.70 -30.25 0.53   Lateral  \n",
       "945 36.02 -0.46   -0.49 35.10  34.26  42.32 -73.58 0.52   Bajista  "
      ]
     },
     "metadata": {},
     "output_type": "display_data"
    }
   ],
   "source": [
    "display(classifier_dataset.tail())"
   ]
  },
  {
   "cell_type": "code",
   "execution_count": 6,
   "metadata": {},
   "outputs": [
    {
     "data": {
      "text/plain": [
       "(946, 17)"
      ]
     },
     "execution_count": 6,
     "metadata": {},
     "output_type": "execute_result"
    }
   ],
   "source": [
    "classifier_dataset.shape"
   ]
  },
  {
   "cell_type": "code",
   "execution_count": null,
   "metadata": {},
   "outputs": [],
   "source": []
  },
  {
   "cell_type": "code",
   "execution_count": 7,
   "metadata": {},
   "outputs": [],
   "source": [
    "X = classifier_dataset.drop(columns=[\"Tendencia\"])\n",
    "y = classifier_dataset[\"Tendencia\"]\n",
    "\n",
    "y = y.to_numpy().reshape(-1, 1)\n",
    "onehot_encoder = OneHotEncoder(sparse=False)\n",
    "y_one_hot = onehot_encoder.fit_transform(y)\n"
   ]
  },
  {
   "cell_type": "code",
   "execution_count": 8,
   "metadata": {},
   "outputs": [],
   "source": [
    "scalers = {}\n",
    "for column in X.columns:\n",
    "    scaler = StandardScaler()\n",
    "    X[[column]] = scaler.fit_transform(X[[column]])\n",
    "    clasifier_validation[[column]] = scaler.transform(clasifier_validation[[column]])\n",
    "    scalers[column] = scaler"
   ]
  },
  {
   "cell_type": "code",
   "execution_count": 9,
   "metadata": {},
   "outputs": [
    {
     "data": {
      "text/plain": [
       "array([[0., 0., 1.],\n",
       "       [0., 1., 0.],\n",
       "       [1., 0., 0.],\n",
       "       ...,\n",
       "       [0., 0., 1.],\n",
       "       [0., 0., 1.],\n",
       "       [0., 1., 0.]])"
      ]
     },
     "metadata": {},
     "output_type": "display_data"
    }
   ],
   "source": [
    "display(y_one_hot)"
   ]
  },
  {
   "cell_type": "code",
   "execution_count": 10,
   "metadata": {},
   "outputs": [],
   "source": [
    "classifier = LGBMClassifier(objective='multiclass', num_class=3, metric='multi_logloss', verbosity=-1)\n",
    "\n",
    "# Definir el espacio de búsqueda de hiperparámetros\n",
    "param_space = {\n",
    "    'num_leaves': (10, 500),\n",
    "    'max_depth': (3, 20),\n",
    "    'learning_rate': (0.001, 0.5), \n",
    "    'n_estimators': (50, 2000),\n",
    "    'min_child_samples': (5, 200),\n",
    "    'subsample': (0.5, 1.0),  \n",
    "    'colsample_bytree': (0.5, 1.0),\n",
    "    'reg_alpha': (0.0, 1.0),\n",
    "    'reg_lambda': (0.0, 1.0),\n",
    "    'objective': ['multiclass'],\n",
    "    'metric': ['multi_logloss', 'multi_error'],\n",
    "    'importance_type': ['gain', 'split'],\n",
    "    'boosting_type': ['gbdt', 'dart']#, 'rf'],\n",
    "}\n",
    "# Definir función de pérdida para la búsqueda bayesiana\n",
    "def multi_log_loss(estimator, X_test, y_test):\n",
    "    y_pred = estimator.predict_proba(X_test)\n",
    "    loss = log_loss(y_test, y_pred)\n",
    "    return loss\n",
    "\n",
    "# Definir validación cruzada temporal\n",
    "cv = TimeSeriesSplit(n_splits=5).split(X)\n",
    "# stratified_cv = StratifiedKFold(n_splits=10, shuffle=False)\n",
    "\n",
    "# Realizar la búsqueda bayesiana de hiperparámetros\n",
    "bayes_search = BayesSearchCV(\n",
    "    classifier, \n",
    "    param_space, \n",
    "    scoring='neg_log_loss', \n",
    "    cv=cv,\n",
    "    # cv=TimeSeriesSplit(n_splits=10),\n",
    "    # cv=stratified_cv,\n",
    "    n_iter=500,\n",
    "    verbose=0,\n",
    "    n_jobs=-1\n",
    ")\n",
    "\n",
    "# Realizar la búsqueda bayesiana\n",
    "bayes_result = bayes_search.fit(X, y)"
   ]
  },
  {
   "cell_type": "code",
   "execution_count": null,
   "metadata": {},
   "outputs": [
    {
     "name": "stdout",
     "output_type": "stream",
     "text": [
      "Best score: 3.458719420188401\n",
      "Best parameters: OrderedDict([('boosting_type', 'gbdt'), ('colsample_bytree', 1.0), ('importance_type', 'gain'), ('learning_rate', 0.5), ('metric', 'multi_logloss'), ('min_child_samples', 48), ('n_estimators', 340), ('n_iter', 500), ('num_leaves', 95), ('objective', 'multiclass'), ('reg_alpha', 0.0), ('reg_lambda', 0.0), ('subsample', 0.8933012014094083)])\n"
     ]
    },
    {
     "data": {
      "text/html": [
       "<style>#sk-container-id-10 {color: black;background-color: white;}#sk-container-id-10 pre{padding: 0;}#sk-container-id-10 div.sk-toggleable {background-color: white;}#sk-container-id-10 label.sk-toggleable__label {cursor: pointer;display: block;width: 100%;margin-bottom: 0;padding: 0.3em;box-sizing: border-box;text-align: center;}#sk-container-id-10 label.sk-toggleable__label-arrow:before {content: \"▸\";float: left;margin-right: 0.25em;color: #696969;}#sk-container-id-10 label.sk-toggleable__label-arrow:hover:before {color: black;}#sk-container-id-10 div.sk-estimator:hover label.sk-toggleable__label-arrow:before {color: black;}#sk-container-id-10 div.sk-toggleable__content {max-height: 0;max-width: 0;overflow: hidden;text-align: left;background-color: #f0f8ff;}#sk-container-id-10 div.sk-toggleable__content pre {margin: 0.2em;color: black;border-radius: 0.25em;background-color: #f0f8ff;}#sk-container-id-10 input.sk-toggleable__control:checked~div.sk-toggleable__content {max-height: 200px;max-width: 100%;overflow: auto;}#sk-container-id-10 input.sk-toggleable__control:checked~label.sk-toggleable__label-arrow:before {content: \"▾\";}#sk-container-id-10 div.sk-estimator input.sk-toggleable__control:checked~label.sk-toggleable__label {background-color: #d4ebff;}#sk-container-id-10 div.sk-label input.sk-toggleable__control:checked~label.sk-toggleable__label {background-color: #d4ebff;}#sk-container-id-10 input.sk-hidden--visually {border: 0;clip: rect(1px 1px 1px 1px);clip: rect(1px, 1px, 1px, 1px);height: 1px;margin: -1px;overflow: hidden;padding: 0;position: absolute;width: 1px;}#sk-container-id-10 div.sk-estimator {font-family: monospace;background-color: #f0f8ff;border: 1px dotted black;border-radius: 0.25em;box-sizing: border-box;margin-bottom: 0.5em;}#sk-container-id-10 div.sk-estimator:hover {background-color: #d4ebff;}#sk-container-id-10 div.sk-parallel-item::after {content: \"\";width: 100%;border-bottom: 1px solid gray;flex-grow: 1;}#sk-container-id-10 div.sk-label:hover label.sk-toggleable__label {background-color: #d4ebff;}#sk-container-id-10 div.sk-serial::before {content: \"\";position: absolute;border-left: 1px solid gray;box-sizing: border-box;top: 0;bottom: 0;left: 50%;z-index: 0;}#sk-container-id-10 div.sk-serial {display: flex;flex-direction: column;align-items: center;background-color: white;padding-right: 0.2em;padding-left: 0.2em;position: relative;}#sk-container-id-10 div.sk-item {position: relative;z-index: 1;}#sk-container-id-10 div.sk-parallel {display: flex;align-items: stretch;justify-content: center;background-color: white;position: relative;}#sk-container-id-10 div.sk-item::before, #sk-container-id-10 div.sk-parallel-item::before {content: \"\";position: absolute;border-left: 1px solid gray;box-sizing: border-box;top: 0;bottom: 0;left: 50%;z-index: -1;}#sk-container-id-10 div.sk-parallel-item {display: flex;flex-direction: column;z-index: 1;position: relative;background-color: white;}#sk-container-id-10 div.sk-parallel-item:first-child::after {align-self: flex-end;width: 50%;}#sk-container-id-10 div.sk-parallel-item:last-child::after {align-self: flex-start;width: 50%;}#sk-container-id-10 div.sk-parallel-item:only-child::after {width: 0;}#sk-container-id-10 div.sk-dashed-wrapped {border: 1px dashed gray;margin: 0 0.4em 0.5em 0.4em;box-sizing: border-box;padding-bottom: 0.4em;background-color: white;}#sk-container-id-10 div.sk-label label {font-family: monospace;font-weight: bold;display: inline-block;line-height: 1.2em;}#sk-container-id-10 div.sk-label-container {text-align: center;}#sk-container-id-10 div.sk-container {/* jupyter's `normalize.less` sets `[hidden] { display: none; }` but bootstrap.min.css set `[hidden] { display: none !important; }` so we also need the `!important` here to be able to override the default hidden behavior on the sphinx rendered scikit-learn.org. See: https://github.com/scikit-learn/scikit-learn/issues/21755 */display: inline-block !important;position: relative;}#sk-container-id-10 div.sk-text-repr-fallback {display: none;}</style><div id=\"sk-container-id-10\" class=\"sk-top-container\"><div class=\"sk-text-repr-fallback\"><pre>LGBMClassifier(importance_type=&#x27;gain&#x27;, learning_rate=0.5,\n",
       "               metric=&#x27;multi_logloss&#x27;, min_child_samples=48, n_estimators=340,\n",
       "               n_iter=500, num_class=3, num_leaves=95, objective=&#x27;multiclass&#x27;,\n",
       "               subsample=0.8933012014094083, verbosity=-1)</pre><b>In a Jupyter environment, please rerun this cell to show the HTML representation or trust the notebook. <br />On GitHub, the HTML representation is unable to render, please try loading this page with nbviewer.org.</b></div><div class=\"sk-container\" hidden><div class=\"sk-item\"><div class=\"sk-estimator sk-toggleable\"><input class=\"sk-toggleable__control sk-hidden--visually\" id=\"sk-estimator-id-35\" type=\"checkbox\" checked><label for=\"sk-estimator-id-35\" class=\"sk-toggleable__label sk-toggleable__label-arrow\">LGBMClassifier</label><div class=\"sk-toggleable__content\"><pre>LGBMClassifier(importance_type=&#x27;gain&#x27;, learning_rate=0.5,\n",
       "               metric=&#x27;multi_logloss&#x27;, min_child_samples=48, n_estimators=340,\n",
       "               n_iter=500, num_class=3, num_leaves=95, objective=&#x27;multiclass&#x27;,\n",
       "               subsample=0.8933012014094083, verbosity=-1)</pre></div></div></div></div></div>"
      ],
      "text/plain": [
       "LGBMClassifier(importance_type='gain', learning_rate=0.5,\n",
       "               metric='multi_logloss', min_child_samples=48, n_estimators=340,\n",
       "               n_iter=500, num_class=3, num_leaves=95, objective='multiclass',\n",
       "               subsample=0.8933012014094083, verbosity=-1)"
      ]
     },
     "execution_count": 131,
     "metadata": {},
     "output_type": "execute_result"
    }
   ],
   "source": [
    "# Show best results\n",
    "print(\"Best score:\", bayes_result.best_score_)\n",
    "print(\"Best parameters:\", bayes_result.best_params_)\n",
    "\n",
    "# Entrenar el modelo con los mejores hiperparámetros\n",
    "best_model = bayes_result.best_estimator_\n",
    "best_model.fit(X, y)"
   ]
  },
  {
   "cell_type": "code",
   "execution_count": null,
   "metadata": {},
   "outputs": [
    {
     "name": "stdout",
     "output_type": "stream",
     "text": [
      "Top 5 mejores modelos:\n",
      "Modelo 1\n",
      "Hiperparámetros: OrderedDict([('boosting_type', 'dart'), ('colsample_bytree', 0.8941882029766676), ('importance_type', 'gain'), ('learning_rate', 0.019882422470529012), ('metric', 'multi_error'), ('min_child_samples', 181), ('n_estimators', 418), ('n_iter', 295), ('num_leaves', 175), ('objective', 'multiclass'), ('reg_alpha', 0.6706462037686927), ('reg_lambda', 0.8272135833591839), ('subsample', 0.7914163215472552)])\n",
      "Puntaje: 1.0693452836731776\n",
      "Modelo 2\n",
      "Hiperparámetros: OrderedDict([('boosting_type', 'gbdt'), ('colsample_bytree', 0.5589694270943428), ('importance_type', 'split'), ('learning_rate', 0.2174955782444395), ('metric', 'multi_error'), ('min_child_samples', 94), ('n_estimators', 125), ('n_iter', 94), ('num_leaves', 117), ('objective', 'multiclass'), ('reg_alpha', 0.21624249202880214), ('reg_lambda', 0.4104174649836443), ('subsample', 0.9810203155226598)])\n",
      "Puntaje: 1.0427473702060328\n",
      "Modelo 3\n",
      "Hiperparámetros: OrderedDict([('boosting_type', 'dart'), ('colsample_bytree', 0.8057578628524547), ('importance_type', 'gain'), ('learning_rate', 0.3768515787242753), ('metric', 'multi_error'), ('min_child_samples', 17), ('n_estimators', 279), ('n_iter', 434), ('num_leaves', 259), ('objective', 'multiclass'), ('reg_alpha', 0.5988695602691249), ('reg_lambda', 0.620341602701605), ('subsample', 0.7242997699445584)])\n",
      "Puntaje: 1.133090950016372\n",
      "Modelo 4\n",
      "Hiperparámetros: OrderedDict([('boosting_type', 'dart'), ('colsample_bytree', 0.6791414227411002), ('importance_type', 'split'), ('learning_rate', 0.35315398979058144), ('metric', 'multi_error'), ('min_child_samples', 13), ('n_estimators', 179), ('n_iter', 389), ('num_leaves', 12), ('objective', 'multiclass'), ('reg_alpha', 0.6311289137394293), ('reg_lambda', 0.049538701570263424), ('subsample', 0.8262873328500489)])\n",
      "Puntaje: 1.139612713432072\n",
      "Modelo 5\n",
      "Hiperparámetros: OrderedDict([('boosting_type', 'rf'), ('colsample_bytree', 0.8395378037102144), ('importance_type', 'gain'), ('learning_rate', 0.16334442744319824), ('metric', 'multi_logloss'), ('min_child_samples', 115), ('n_estimators', 424), ('n_iter', 490), ('num_leaves', 424), ('objective', 'multiclass'), ('reg_alpha', 0.7513571971821541), ('reg_lambda', 0.1383175536671998), ('subsample', 0.5462884834059388)])\n",
      "Puntaje: 1.0658032230614647\n"
     ]
    }
   ],
   "source": [
    "import json\n",
    "\n",
    "# Obtener los hiperparámetros y puntajes de los 5 mejores modelos\n",
    "top_n_models = 5\n",
    "best_params_list = []\n",
    "best_scores_list = []\n",
    "\n",
    "for i in range(min(top_n_models, len(bayes_search.cv_results_['params']))):\n",
    "    best_params_list.append(bayes_search.cv_results_['params'][i])\n",
    "    best_scores_list.append(bayes_search.cv_results_['mean_test_score'][i])\n",
    "\n",
    "# Guardar los hiperparámetros de los 5 mejores modelos en un archivo JSON\n",
    "with open('gbm_classifier/top_5_hyperparameters.json', 'w') as f:\n",
    "    json.dump({'best_params': best_params_list, 'best_scores': best_scores_list}, f)\n",
    "\n",
    "# O imprimir los hiperparámetros\n",
    "print(\"Top 5 mejores modelos:\")\n",
    "for i in range(len(best_params_list)):\n",
    "    print(\"Modelo\", i+1)\n",
    "    print(\"Hiperparámetros:\", best_params_list[i])\n",
    "    print(\"Puntaje:\", best_scores_list[i])\n"
   ]
  },
  {
   "cell_type": "markdown",
   "metadata": {},
   "source": [
    "#### Armado del ensamble"
   ]
  },
  {
   "cell_type": "code",
   "execution_count": null,
   "metadata": {},
   "outputs": [],
   "source": [
    "# Crear una lista para almacenar los modelos individuales\n",
    "individual_models = []\n",
    "\n",
    "# Entrenar los modelos individuales\n",
    "for params_str in best_params_list:\n",
    "    model = LGBMClassifier(verbosity=-1, **params_str)\n",
    "    model.fit(X, y)\n",
    "    individual_models.append(model)\n",
    "\n",
    "voting_model = VotingClassifier(estimators=[('model_'+str(i), model) for i, model in enumerate(individual_models)], voting='hard', verbose=0)#voting='soft', verbose=0)\n",
    "voting_model.fit(X, y)\n",
    "\n",
    "with open('gbm_classifier/gbm_boosting_classifier.pkl', 'wb') as f:\n",
    "    dill.dump(voting_model, f)"
   ]
  },
  {
   "cell_type": "markdown",
   "metadata": {},
   "source": [
    "#### Clasificacion con el ensamble sobre las redicciones de los modelos generativos"
   ]
  },
  {
   "cell_type": "code",
   "execution_count": null,
   "metadata": {},
   "outputs": [],
   "source": [
    "with open('gbm_classifier/gbm_boosting_classifier.pkl', 'rb') as f:\n",
    "    voting_model = dill.load(f)"
   ]
  },
  {
   "cell_type": "code",
   "execution_count": null,
   "metadata": {},
   "outputs": [
    {
     "data": {
      "text/html": [
       "<style>#sk-container-id-11 {color: black;background-color: white;}#sk-container-id-11 pre{padding: 0;}#sk-container-id-11 div.sk-toggleable {background-color: white;}#sk-container-id-11 label.sk-toggleable__label {cursor: pointer;display: block;width: 100%;margin-bottom: 0;padding: 0.3em;box-sizing: border-box;text-align: center;}#sk-container-id-11 label.sk-toggleable__label-arrow:before {content: \"▸\";float: left;margin-right: 0.25em;color: #696969;}#sk-container-id-11 label.sk-toggleable__label-arrow:hover:before {color: black;}#sk-container-id-11 div.sk-estimator:hover label.sk-toggleable__label-arrow:before {color: black;}#sk-container-id-11 div.sk-toggleable__content {max-height: 0;max-width: 0;overflow: hidden;text-align: left;background-color: #f0f8ff;}#sk-container-id-11 div.sk-toggleable__content pre {margin: 0.2em;color: black;border-radius: 0.25em;background-color: #f0f8ff;}#sk-container-id-11 input.sk-toggleable__control:checked~div.sk-toggleable__content {max-height: 200px;max-width: 100%;overflow: auto;}#sk-container-id-11 input.sk-toggleable__control:checked~label.sk-toggleable__label-arrow:before {content: \"▾\";}#sk-container-id-11 div.sk-estimator input.sk-toggleable__control:checked~label.sk-toggleable__label {background-color: #d4ebff;}#sk-container-id-11 div.sk-label input.sk-toggleable__control:checked~label.sk-toggleable__label {background-color: #d4ebff;}#sk-container-id-11 input.sk-hidden--visually {border: 0;clip: rect(1px 1px 1px 1px);clip: rect(1px, 1px, 1px, 1px);height: 1px;margin: -1px;overflow: hidden;padding: 0;position: absolute;width: 1px;}#sk-container-id-11 div.sk-estimator {font-family: monospace;background-color: #f0f8ff;border: 1px dotted black;border-radius: 0.25em;box-sizing: border-box;margin-bottom: 0.5em;}#sk-container-id-11 div.sk-estimator:hover {background-color: #d4ebff;}#sk-container-id-11 div.sk-parallel-item::after {content: \"\";width: 100%;border-bottom: 1px solid gray;flex-grow: 1;}#sk-container-id-11 div.sk-label:hover label.sk-toggleable__label {background-color: #d4ebff;}#sk-container-id-11 div.sk-serial::before {content: \"\";position: absolute;border-left: 1px solid gray;box-sizing: border-box;top: 0;bottom: 0;left: 50%;z-index: 0;}#sk-container-id-11 div.sk-serial {display: flex;flex-direction: column;align-items: center;background-color: white;padding-right: 0.2em;padding-left: 0.2em;position: relative;}#sk-container-id-11 div.sk-item {position: relative;z-index: 1;}#sk-container-id-11 div.sk-parallel {display: flex;align-items: stretch;justify-content: center;background-color: white;position: relative;}#sk-container-id-11 div.sk-item::before, #sk-container-id-11 div.sk-parallel-item::before {content: \"\";position: absolute;border-left: 1px solid gray;box-sizing: border-box;top: 0;bottom: 0;left: 50%;z-index: -1;}#sk-container-id-11 div.sk-parallel-item {display: flex;flex-direction: column;z-index: 1;position: relative;background-color: white;}#sk-container-id-11 div.sk-parallel-item:first-child::after {align-self: flex-end;width: 50%;}#sk-container-id-11 div.sk-parallel-item:last-child::after {align-self: flex-start;width: 50%;}#sk-container-id-11 div.sk-parallel-item:only-child::after {width: 0;}#sk-container-id-11 div.sk-dashed-wrapped {border: 1px dashed gray;margin: 0 0.4em 0.5em 0.4em;box-sizing: border-box;padding-bottom: 0.4em;background-color: white;}#sk-container-id-11 div.sk-label label {font-family: monospace;font-weight: bold;display: inline-block;line-height: 1.2em;}#sk-container-id-11 div.sk-label-container {text-align: center;}#sk-container-id-11 div.sk-container {/* jupyter's `normalize.less` sets `[hidden] { display: none; }` but bootstrap.min.css set `[hidden] { display: none !important; }` so we also need the `!important` here to be able to override the default hidden behavior on the sphinx rendered scikit-learn.org. See: https://github.com/scikit-learn/scikit-learn/issues/21755 */display: inline-block !important;position: relative;}#sk-container-id-11 div.sk-text-repr-fallback {display: none;}</style><div id=\"sk-container-id-11\" class=\"sk-top-container\"><div class=\"sk-text-repr-fallback\"><pre>VotingClassifier(estimators=[(&#x27;model_0&#x27;,\n",
       "                              LGBMClassifier(boosting_type=&#x27;dart&#x27;,\n",
       "                                             colsample_bytree=0.8941882029766676,\n",
       "                                             importance_type=&#x27;gain&#x27;,\n",
       "                                             learning_rate=0.019882422470529012,\n",
       "                                             metric=&#x27;multi_error&#x27;,\n",
       "                                             min_child_samples=181,\n",
       "                                             n_estimators=418, n_iter=295,\n",
       "                                             num_leaves=175,\n",
       "                                             objective=&#x27;multiclass&#x27;,\n",
       "                                             reg_alpha=0.6706462037686927,\n",
       "                                             reg_lambda=0.8272135833591839,\n",
       "                                             subsample=0....\n",
       "                              LGBMClassifier(boosting_type=&#x27;rf&#x27;,\n",
       "                                             colsample_bytree=0.8395378037102144,\n",
       "                                             importance_type=&#x27;gain&#x27;,\n",
       "                                             learning_rate=0.16334442744319824,\n",
       "                                             metric=&#x27;multi_logloss&#x27;,\n",
       "                                             min_child_samples=115,\n",
       "                                             n_estimators=424, n_iter=490,\n",
       "                                             num_leaves=424,\n",
       "                                             objective=&#x27;multiclass&#x27;,\n",
       "                                             reg_alpha=0.7513571971821541,\n",
       "                                             reg_lambda=0.1383175536671998,\n",
       "                                             subsample=0.5462884834059388,\n",
       "                                             verbosity=-1))],\n",
       "                 verbose=0)</pre><b>In a Jupyter environment, please rerun this cell to show the HTML representation or trust the notebook. <br />On GitHub, the HTML representation is unable to render, please try loading this page with nbviewer.org.</b></div><div class=\"sk-container\" hidden><div class=\"sk-item sk-dashed-wrapped\"><div class=\"sk-label-container\"><div class=\"sk-label sk-toggleable\"><input class=\"sk-toggleable__control sk-hidden--visually\" id=\"sk-estimator-id-36\" type=\"checkbox\" ><label for=\"sk-estimator-id-36\" class=\"sk-toggleable__label sk-toggleable__label-arrow\">VotingClassifier</label><div class=\"sk-toggleable__content\"><pre>VotingClassifier(estimators=[(&#x27;model_0&#x27;,\n",
       "                              LGBMClassifier(boosting_type=&#x27;dart&#x27;,\n",
       "                                             colsample_bytree=0.8941882029766676,\n",
       "                                             importance_type=&#x27;gain&#x27;,\n",
       "                                             learning_rate=0.019882422470529012,\n",
       "                                             metric=&#x27;multi_error&#x27;,\n",
       "                                             min_child_samples=181,\n",
       "                                             n_estimators=418, n_iter=295,\n",
       "                                             num_leaves=175,\n",
       "                                             objective=&#x27;multiclass&#x27;,\n",
       "                                             reg_alpha=0.6706462037686927,\n",
       "                                             reg_lambda=0.8272135833591839,\n",
       "                                             subsample=0....\n",
       "                              LGBMClassifier(boosting_type=&#x27;rf&#x27;,\n",
       "                                             colsample_bytree=0.8395378037102144,\n",
       "                                             importance_type=&#x27;gain&#x27;,\n",
       "                                             learning_rate=0.16334442744319824,\n",
       "                                             metric=&#x27;multi_logloss&#x27;,\n",
       "                                             min_child_samples=115,\n",
       "                                             n_estimators=424, n_iter=490,\n",
       "                                             num_leaves=424,\n",
       "                                             objective=&#x27;multiclass&#x27;,\n",
       "                                             reg_alpha=0.7513571971821541,\n",
       "                                             reg_lambda=0.1383175536671998,\n",
       "                                             subsample=0.5462884834059388,\n",
       "                                             verbosity=-1))],\n",
       "                 verbose=0)</pre></div></div></div><div class=\"sk-parallel\"><div class=\"sk-parallel-item\"><div class=\"sk-item\"><div class=\"sk-label-container\"><div class=\"sk-label sk-toggleable\"><label>model_0</label></div></div><div class=\"sk-serial\"><div class=\"sk-item\"><div class=\"sk-estimator sk-toggleable\"><input class=\"sk-toggleable__control sk-hidden--visually\" id=\"sk-estimator-id-37\" type=\"checkbox\" ><label for=\"sk-estimator-id-37\" class=\"sk-toggleable__label sk-toggleable__label-arrow\">LGBMClassifier</label><div class=\"sk-toggleable__content\"><pre>LGBMClassifier(boosting_type=&#x27;dart&#x27;, colsample_bytree=0.8941882029766676,\n",
       "               importance_type=&#x27;gain&#x27;, learning_rate=0.019882422470529012,\n",
       "               metric=&#x27;multi_error&#x27;, min_child_samples=181, n_estimators=418,\n",
       "               n_iter=295, num_leaves=175, objective=&#x27;multiclass&#x27;,\n",
       "               reg_alpha=0.6706462037686927, reg_lambda=0.8272135833591839,\n",
       "               subsample=0.7914163215472552, verbosity=-1)</pre></div></div></div></div></div></div><div class=\"sk-parallel-item\"><div class=\"sk-item\"><div class=\"sk-label-container\"><div class=\"sk-label sk-toggleable\"><label>model_1</label></div></div><div class=\"sk-serial\"><div class=\"sk-item\"><div class=\"sk-estimator sk-toggleable\"><input class=\"sk-toggleable__control sk-hidden--visually\" id=\"sk-estimator-id-38\" type=\"checkbox\" ><label for=\"sk-estimator-id-38\" class=\"sk-toggleable__label sk-toggleable__label-arrow\">LGBMClassifier</label><div class=\"sk-toggleable__content\"><pre>LGBMClassifier(colsample_bytree=0.5589694270943428,\n",
       "               learning_rate=0.2174955782444395, metric=&#x27;multi_error&#x27;,\n",
       "               min_child_samples=94, n_estimators=125, n_iter=94,\n",
       "               num_leaves=117, objective=&#x27;multiclass&#x27;,\n",
       "               reg_alpha=0.21624249202880214, reg_lambda=0.4104174649836443,\n",
       "               subsample=0.9810203155226598, verbosity=-1)</pre></div></div></div></div></div></div><div class=\"sk-parallel-item\"><div class=\"sk-item\"><div class=\"sk-label-container\"><div class=\"sk-label sk-toggleable\"><label>model_2</label></div></div><div class=\"sk-serial\"><div class=\"sk-item\"><div class=\"sk-estimator sk-toggleable\"><input class=\"sk-toggleable__control sk-hidden--visually\" id=\"sk-estimator-id-39\" type=\"checkbox\" ><label for=\"sk-estimator-id-39\" class=\"sk-toggleable__label sk-toggleable__label-arrow\">LGBMClassifier</label><div class=\"sk-toggleable__content\"><pre>LGBMClassifier(boosting_type=&#x27;dart&#x27;, colsample_bytree=0.8057578628524547,\n",
       "               importance_type=&#x27;gain&#x27;, learning_rate=0.3768515787242753,\n",
       "               metric=&#x27;multi_error&#x27;, min_child_samples=17, n_estimators=279,\n",
       "               n_iter=434, num_leaves=259, objective=&#x27;multiclass&#x27;,\n",
       "               reg_alpha=0.5988695602691249, reg_lambda=0.620341602701605,\n",
       "               subsample=0.7242997699445584, verbosity=-1)</pre></div></div></div></div></div></div><div class=\"sk-parallel-item\"><div class=\"sk-item\"><div class=\"sk-label-container\"><div class=\"sk-label sk-toggleable\"><label>model_3</label></div></div><div class=\"sk-serial\"><div class=\"sk-item\"><div class=\"sk-estimator sk-toggleable\"><input class=\"sk-toggleable__control sk-hidden--visually\" id=\"sk-estimator-id-40\" type=\"checkbox\" ><label for=\"sk-estimator-id-40\" class=\"sk-toggleable__label sk-toggleable__label-arrow\">LGBMClassifier</label><div class=\"sk-toggleable__content\"><pre>LGBMClassifier(boosting_type=&#x27;dart&#x27;, colsample_bytree=0.6791414227411002,\n",
       "               learning_rate=0.35315398979058144, metric=&#x27;multi_error&#x27;,\n",
       "               min_child_samples=13, n_estimators=179, n_iter=389,\n",
       "               num_leaves=12, objective=&#x27;multiclass&#x27;,\n",
       "               reg_alpha=0.6311289137394293, reg_lambda=0.049538701570263424,\n",
       "               subsample=0.8262873328500489, verbosity=-1)</pre></div></div></div></div></div></div><div class=\"sk-parallel-item\"><div class=\"sk-item\"><div class=\"sk-label-container\"><div class=\"sk-label sk-toggleable\"><label>model_4</label></div></div><div class=\"sk-serial\"><div class=\"sk-item\"><div class=\"sk-estimator sk-toggleable\"><input class=\"sk-toggleable__control sk-hidden--visually\" id=\"sk-estimator-id-41\" type=\"checkbox\" ><label for=\"sk-estimator-id-41\" class=\"sk-toggleable__label sk-toggleable__label-arrow\">LGBMClassifier</label><div class=\"sk-toggleable__content\"><pre>LGBMClassifier(boosting_type=&#x27;rf&#x27;, colsample_bytree=0.8395378037102144,\n",
       "               importance_type=&#x27;gain&#x27;, learning_rate=0.16334442744319824,\n",
       "               metric=&#x27;multi_logloss&#x27;, min_child_samples=115, n_estimators=424,\n",
       "               n_iter=490, num_leaves=424, objective=&#x27;multiclass&#x27;,\n",
       "               reg_alpha=0.7513571971821541, reg_lambda=0.1383175536671998,\n",
       "               subsample=0.5462884834059388, verbosity=-1)</pre></div></div></div></div></div></div></div></div></div></div>"
      ],
      "text/plain": [
       "VotingClassifier(estimators=[('model_0',\n",
       "                              LGBMClassifier(boosting_type='dart',\n",
       "                                             colsample_bytree=0.8941882029766676,\n",
       "                                             importance_type='gain',\n",
       "                                             learning_rate=0.019882422470529012,\n",
       "                                             metric='multi_error',\n",
       "                                             min_child_samples=181,\n",
       "                                             n_estimators=418, n_iter=295,\n",
       "                                             num_leaves=175,\n",
       "                                             objective='multiclass',\n",
       "                                             reg_alpha=0.6706462037686927,\n",
       "                                             reg_lambda=0.8272135833591839,\n",
       "                                             subsample=0....\n",
       "                              LGBMClassifier(boosting_type='rf',\n",
       "                                             colsample_bytree=0.8395378037102144,\n",
       "                                             importance_type='gain',\n",
       "                                             learning_rate=0.16334442744319824,\n",
       "                                             metric='multi_logloss',\n",
       "                                             min_child_samples=115,\n",
       "                                             n_estimators=424, n_iter=490,\n",
       "                                             num_leaves=424,\n",
       "                                             objective='multiclass',\n",
       "                                             reg_alpha=0.7513571971821541,\n",
       "                                             reg_lambda=0.1383175536671998,\n",
       "                                             subsample=0.5462884834059388,\n",
       "                                             verbosity=-1))],\n",
       "                 verbose=0)"
      ]
     },
     "execution_count": 135,
     "metadata": {},
     "output_type": "execute_result"
    }
   ],
   "source": [
    "voting_model.fit(X, y)"
   ]
  },
  {
   "cell_type": "markdown",
   "metadata": {},
   "source": [
    "##### Datos originales:"
   ]
  },
  {
   "cell_type": "code",
   "execution_count": null,
   "metadata": {},
   "outputs": [
    {
     "data": {
      "text/html": [
       "<div>\n",
       "<style scoped>\n",
       "    .dataframe tbody tr th:only-of-type {\n",
       "        vertical-align: middle;\n",
       "    }\n",
       "\n",
       "    .dataframe tbody tr th {\n",
       "        vertical-align: top;\n",
       "    }\n",
       "\n",
       "    .dataframe thead th {\n",
       "        text-align: right;\n",
       "    }\n",
       "</style>\n",
       "<table border=\"1\" class=\"dataframe\">\n",
       "  <thead>\n",
       "    <tr style=\"text-align: right;\">\n",
       "      <th></th>\n",
       "      <th>Open</th>\n",
       "      <th>High</th>\n",
       "      <th>Low</th>\n",
       "      <th>SMA_20</th>\n",
       "      <th>EMA_20</th>\n",
       "      <th>Upper_Band</th>\n",
       "      <th>Middle_Band</th>\n",
       "      <th>Lower_Band</th>\n",
       "      <th>RSI</th>\n",
       "      <th>MACD</th>\n",
       "      <th>Signal</th>\n",
       "      <th>ADX</th>\n",
       "      <th>SlowK</th>\n",
       "      <th>SlowD</th>\n",
       "      <th>CCI</th>\n",
       "      <th>ATR</th>\n",
       "      <th>Tendencia</th>\n",
       "    </tr>\n",
       "  </thead>\n",
       "  <tbody>\n",
       "    <tr>\n",
       "      <th>946</th>\n",
       "      <td>-0.46</td>\n",
       "      <td>-0.48</td>\n",
       "      <td>-0.50</td>\n",
       "      <td>-0.45</td>\n",
       "      <td>-0.43</td>\n",
       "      <td>-0.45</td>\n",
       "      <td>-0.45</td>\n",
       "      <td>-0.44</td>\n",
       "      <td>-1.13</td>\n",
       "      <td>-0.30</td>\n",
       "      <td>-0.34</td>\n",
       "      <td>1.07</td>\n",
       "      <td>-0.70</td>\n",
       "      <td>-0.40</td>\n",
       "      <td>-1.13</td>\n",
       "      <td>-0.38</td>\n",
       "      <td>Bajista</td>\n",
       "    </tr>\n",
       "    <tr>\n",
       "      <th>947</th>\n",
       "      <td>-0.48</td>\n",
       "      <td>-0.45</td>\n",
       "      <td>-0.49</td>\n",
       "      <td>-0.46</td>\n",
       "      <td>-0.43</td>\n",
       "      <td>-0.48</td>\n",
       "      <td>-0.46</td>\n",
       "      <td>-0.41</td>\n",
       "      <td>-0.36</td>\n",
       "      <td>-0.26</td>\n",
       "      <td>-0.33</td>\n",
       "      <td>1.07</td>\n",
       "      <td>-0.43</td>\n",
       "      <td>-0.54</td>\n",
       "      <td>-0.46</td>\n",
       "      <td>-0.36</td>\n",
       "      <td>Alcista</td>\n",
       "    </tr>\n",
       "    <tr>\n",
       "      <th>948</th>\n",
       "      <td>-0.43</td>\n",
       "      <td>-0.41</td>\n",
       "      <td>-0.43</td>\n",
       "      <td>-0.46</td>\n",
       "      <td>-0.43</td>\n",
       "      <td>-0.48</td>\n",
       "      <td>-0.46</td>\n",
       "      <td>-0.41</td>\n",
       "      <td>0.14</td>\n",
       "      <td>-0.20</td>\n",
       "      <td>-0.31</td>\n",
       "      <td>0.93</td>\n",
       "      <td>0.29</td>\n",
       "      <td>-0.29</td>\n",
       "      <td>0.66</td>\n",
       "      <td>-0.35</td>\n",
       "      <td>Alcista</td>\n",
       "    </tr>\n",
       "    <tr>\n",
       "      <th>949</th>\n",
       "      <td>-0.40</td>\n",
       "      <td>-0.41</td>\n",
       "      <td>-0.40</td>\n",
       "      <td>-0.45</td>\n",
       "      <td>-0.43</td>\n",
       "      <td>-0.48</td>\n",
       "      <td>-0.45</td>\n",
       "      <td>-0.40</td>\n",
       "      <td>0.10</td>\n",
       "      <td>-0.14</td>\n",
       "      <td>-0.28</td>\n",
       "      <td>0.80</td>\n",
       "      <td>0.96</td>\n",
       "      <td>0.28</td>\n",
       "      <td>0.76</td>\n",
       "      <td>-0.37</td>\n",
       "      <td>Lateral</td>\n",
       "    </tr>\n",
       "    <tr>\n",
       "      <th>950</th>\n",
       "      <td>-0.40</td>\n",
       "      <td>-0.42</td>\n",
       "      <td>-0.39</td>\n",
       "      <td>-0.45</td>\n",
       "      <td>-0.43</td>\n",
       "      <td>-0.48</td>\n",
       "      <td>-0.45</td>\n",
       "      <td>-0.40</td>\n",
       "      <td>-0.05</td>\n",
       "      <td>-0.11</td>\n",
       "      <td>-0.25</td>\n",
       "      <td>0.68</td>\n",
       "      <td>1.15</td>\n",
       "      <td>0.82</td>\n",
       "      <td>0.62</td>\n",
       "      <td>-0.39</td>\n",
       "      <td>Bajista</td>\n",
       "    </tr>\n",
       "    <tr>\n",
       "      <th>951</th>\n",
       "      <td>-0.41</td>\n",
       "      <td>-0.41</td>\n",
       "      <td>-0.40</td>\n",
       "      <td>-0.45</td>\n",
       "      <td>-0.43</td>\n",
       "      <td>-0.48</td>\n",
       "      <td>-0.45</td>\n",
       "      <td>-0.40</td>\n",
       "      <td>0.20</td>\n",
       "      <td>-0.06</td>\n",
       "      <td>-0.21</td>\n",
       "      <td>0.53</td>\n",
       "      <td>1.17</td>\n",
       "      <td>1.13</td>\n",
       "      <td>0.75</td>\n",
       "      <td>-0.40</td>\n",
       "      <td>Alcista</td>\n",
       "    </tr>\n",
       "    <tr>\n",
       "      <th>952</th>\n",
       "      <td>-0.39</td>\n",
       "      <td>-0.40</td>\n",
       "      <td>-0.39</td>\n",
       "      <td>-0.45</td>\n",
       "      <td>-0.43</td>\n",
       "      <td>-0.47</td>\n",
       "      <td>-0.45</td>\n",
       "      <td>-0.40</td>\n",
       "      <td>-0.04</td>\n",
       "      <td>-0.04</td>\n",
       "      <td>-0.18</td>\n",
       "      <td>0.37</td>\n",
       "      <td>1.09</td>\n",
       "      <td>1.17</td>\n",
       "      <td>0.76</td>\n",
       "      <td>-0.41</td>\n",
       "      <td>Bajista</td>\n",
       "    </tr>\n",
       "    <tr>\n",
       "      <th>953</th>\n",
       "      <td>-0.41</td>\n",
       "      <td>-0.42</td>\n",
       "      <td>-0.40</td>\n",
       "      <td>-0.44</td>\n",
       "      <td>-0.43</td>\n",
       "      <td>-0.48</td>\n",
       "      <td>-0.44</td>\n",
       "      <td>-0.39</td>\n",
       "      <td>-0.21</td>\n",
       "      <td>-0.03</td>\n",
       "      <td>-0.15</td>\n",
       "      <td>0.24</td>\n",
       "      <td>1.03</td>\n",
       "      <td>1.13</td>\n",
       "      <td>0.51</td>\n",
       "      <td>-0.42</td>\n",
       "      <td>Bajista</td>\n",
       "    </tr>\n",
       "    <tr>\n",
       "      <th>954</th>\n",
       "      <td>-0.42</td>\n",
       "      <td>-0.43</td>\n",
       "      <td>-0.41</td>\n",
       "      <td>-0.44</td>\n",
       "      <td>-0.43</td>\n",
       "      <td>-0.47</td>\n",
       "      <td>-0.44</td>\n",
       "      <td>-0.39</td>\n",
       "      <td>-0.22</td>\n",
       "      <td>-0.02</td>\n",
       "      <td>-0.12</td>\n",
       "      <td>0.14</td>\n",
       "      <td>0.83</td>\n",
       "      <td>1.01</td>\n",
       "      <td>0.36</td>\n",
       "      <td>-0.44</td>\n",
       "      <td>Lateral</td>\n",
       "    </tr>\n",
       "    <tr>\n",
       "      <th>955</th>\n",
       "      <td>-0.43</td>\n",
       "      <td>-0.44</td>\n",
       "      <td>-0.42</td>\n",
       "      <td>-0.44</td>\n",
       "      <td>-0.43</td>\n",
       "      <td>-0.47</td>\n",
       "      <td>-0.44</td>\n",
       "      <td>-0.39</td>\n",
       "      <td>-0.11</td>\n",
       "      <td>-0.00</td>\n",
       "      <td>-0.10</td>\n",
       "      <td>0.08</td>\n",
       "      <td>0.81</td>\n",
       "      <td>0.91</td>\n",
       "      <td>0.21</td>\n",
       "      <td>-0.45</td>\n",
       "      <td>Lateral</td>\n",
       "    </tr>\n",
       "  </tbody>\n",
       "</table>\n",
       "</div>"
      ],
      "text/plain": [
       "     Open  High   Low  SMA_20  EMA_20  Upper_Band  Middle_Band  Lower_Band  \\\n",
       "946 -0.46 -0.48 -0.50   -0.45   -0.43       -0.45        -0.45       -0.44   \n",
       "947 -0.48 -0.45 -0.49   -0.46   -0.43       -0.48        -0.46       -0.41   \n",
       "948 -0.43 -0.41 -0.43   -0.46   -0.43       -0.48        -0.46       -0.41   \n",
       "949 -0.40 -0.41 -0.40   -0.45   -0.43       -0.48        -0.45       -0.40   \n",
       "950 -0.40 -0.42 -0.39   -0.45   -0.43       -0.48        -0.45       -0.40   \n",
       "951 -0.41 -0.41 -0.40   -0.45   -0.43       -0.48        -0.45       -0.40   \n",
       "952 -0.39 -0.40 -0.39   -0.45   -0.43       -0.47        -0.45       -0.40   \n",
       "953 -0.41 -0.42 -0.40   -0.44   -0.43       -0.48        -0.44       -0.39   \n",
       "954 -0.42 -0.43 -0.41   -0.44   -0.43       -0.47        -0.44       -0.39   \n",
       "955 -0.43 -0.44 -0.42   -0.44   -0.43       -0.47        -0.44       -0.39   \n",
       "\n",
       "      RSI  MACD  Signal  ADX  SlowK  SlowD   CCI   ATR Tendencia  \n",
       "946 -1.13 -0.30   -0.34 1.07  -0.70  -0.40 -1.13 -0.38   Bajista  \n",
       "947 -0.36 -0.26   -0.33 1.07  -0.43  -0.54 -0.46 -0.36   Alcista  \n",
       "948  0.14 -0.20   -0.31 0.93   0.29  -0.29  0.66 -0.35   Alcista  \n",
       "949  0.10 -0.14   -0.28 0.80   0.96   0.28  0.76 -0.37   Lateral  \n",
       "950 -0.05 -0.11   -0.25 0.68   1.15   0.82  0.62 -0.39   Bajista  \n",
       "951  0.20 -0.06   -0.21 0.53   1.17   1.13  0.75 -0.40   Alcista  \n",
       "952 -0.04 -0.04   -0.18 0.37   1.09   1.17  0.76 -0.41   Bajista  \n",
       "953 -0.21 -0.03   -0.15 0.24   1.03   1.13  0.51 -0.42   Bajista  \n",
       "954 -0.22 -0.02   -0.12 0.14   0.83   1.01  0.36 -0.44   Lateral  \n",
       "955 -0.11 -0.00   -0.10 0.08   0.81   0.91  0.21 -0.45   Lateral  "
      ]
     },
     "metadata": {},
     "output_type": "display_data"
    }
   ],
   "source": [
    "display(clasifier_validation)"
   ]
  },
  {
   "cell_type": "code",
   "execution_count": null,
   "metadata": {},
   "outputs": [
    {
     "data": {
      "text/plain": [
       "array(['Bajista', 'Alcista', 'Alcista', 'Lateral', 'Bajista', 'Alcista',\n",
       "       'Bajista', 'Bajista', 'Bajista', 'Bajista'], dtype=object)"
      ]
     },
     "metadata": {},
     "output_type": "display_data"
    }
   ],
   "source": [
    "n_clases = 3 \n",
    "\n",
    "validation_predictions = voting_model.predict(clasifier_validation[columns])\n",
    "display(validation_predictions)"
   ]
  },
  {
   "cell_type": "markdown",
   "metadata": {},
   "source": [
    "##### Datos generados por auto ml con Auto-TS:"
   ]
  },
  {
   "cell_type": "code",
   "execution_count": null,
   "metadata": {},
   "outputs": [
    {
     "data": {
      "text/plain": [
       "array(['Bajista', 'Alcista', 'Alcista', 'Alcista', 'Alcista', 'Bajista',\n",
       "       'Bajista', 'Bajista', 'Bajista', 'Alcista'], dtype=object)"
      ]
     },
     "metadata": {},
     "output_type": "display_data"
    }
   ],
   "source": [
    "auto_ts_feature_predictor_df = pd.read_csv('auto_ts_models/result.csv')\n",
    "features_auto_ts = auto_ts_feature_predictor_df[columns]\n",
    "\n",
    "for column in features_auto_ts.columns:\n",
    "    scaler = scalers[column]\n",
    "    features_auto_ts[[column]] = scaler.transform(features_auto_ts[[column]])\n",
    "\n",
    "\n",
    "predictions_ts = voting_model.predict(features_auto_ts)\n",
    "\n",
    "display(predictions_ts)"
   ]
  },
  {
   "cell_type": "markdown",
   "metadata": {},
   "source": [
    "##### Datos generados por auto ml con prophet:"
   ]
  },
  {
   "cell_type": "code",
   "execution_count": null,
   "metadata": {},
   "outputs": [
    {
     "ename": "KeyError",
     "evalue": "\"['MACD', 'Signal', 'ADX', 'SlowK', 'SlowD', 'CCI', 'ATR'] not in index\"",
     "output_type": "error",
     "traceback": [
      "\u001b[0;31m---------------------------------------------------------------------------\u001b[0m",
      "\u001b[0;31mKeyError\u001b[0m                                  Traceback (most recent call last)",
      "Cell \u001b[0;32mIn[139], line 2\u001b[0m\n\u001b[1;32m      1\u001b[0m auto_ml_prophet_df \u001b[38;5;241m=\u001b[39m pd\u001b[38;5;241m.\u001b[39mread_csv(\u001b[38;5;124m'\u001b[39m\u001b[38;5;124mauto_timeseries_models_prophet/predicciones.csv\u001b[39m\u001b[38;5;124m'\u001b[39m)\n\u001b[0;32m----> 2\u001b[0m auto_mp_prophet_predictions \u001b[38;5;241m=\u001b[39m voting_model\u001b[38;5;241m.\u001b[39mpredict(\u001b[43mauto_ml_prophet_df\u001b[49m\u001b[43m[\u001b[49m\u001b[43mcolumns\u001b[49m\u001b[43m]\u001b[49m\u001b[38;5;241m.\u001b[39mdrop(columns\u001b[38;5;241m=\u001b[39m[\u001b[38;5;124m\"\u001b[39m\u001b[38;5;124mOpen_time\u001b[39m\u001b[38;5;124m\"\u001b[39m]))\n\u001b[1;32m      3\u001b[0m display(auto_mp_prophet_predictions)\n",
      "File \u001b[0;32m~/Desktop/Tesis-2024/myenv/lib/python3.8/site-packages/pandas/core/frame.py:3813\u001b[0m, in \u001b[0;36mDataFrame.__getitem__\u001b[0;34m(self, key)\u001b[0m\n\u001b[1;32m   3811\u001b[0m     \u001b[38;5;28;01mif\u001b[39;00m is_iterator(key):\n\u001b[1;32m   3812\u001b[0m         key \u001b[38;5;241m=\u001b[39m \u001b[38;5;28mlist\u001b[39m(key)\n\u001b[0;32m-> 3813\u001b[0m     indexer \u001b[38;5;241m=\u001b[39m \u001b[38;5;28;43mself\u001b[39;49m\u001b[38;5;241;43m.\u001b[39;49m\u001b[43mcolumns\u001b[49m\u001b[38;5;241;43m.\u001b[39;49m\u001b[43m_get_indexer_strict\u001b[49m\u001b[43m(\u001b[49m\u001b[43mkey\u001b[49m\u001b[43m,\u001b[49m\u001b[43m \u001b[49m\u001b[38;5;124;43m\"\u001b[39;49m\u001b[38;5;124;43mcolumns\u001b[39;49m\u001b[38;5;124;43m\"\u001b[39;49m\u001b[43m)\u001b[49m[\u001b[38;5;241m1\u001b[39m]\n\u001b[1;32m   3815\u001b[0m \u001b[38;5;66;03m# take() does not accept boolean indexers\u001b[39;00m\n\u001b[1;32m   3816\u001b[0m \u001b[38;5;28;01mif\u001b[39;00m \u001b[38;5;28mgetattr\u001b[39m(indexer, \u001b[38;5;124m\"\u001b[39m\u001b[38;5;124mdtype\u001b[39m\u001b[38;5;124m\"\u001b[39m, \u001b[38;5;28;01mNone\u001b[39;00m) \u001b[38;5;241m==\u001b[39m \u001b[38;5;28mbool\u001b[39m:\n",
      "File \u001b[0;32m~/Desktop/Tesis-2024/myenv/lib/python3.8/site-packages/pandas/core/indexes/base.py:6070\u001b[0m, in \u001b[0;36mIndex._get_indexer_strict\u001b[0;34m(self, key, axis_name)\u001b[0m\n\u001b[1;32m   6067\u001b[0m \u001b[38;5;28;01melse\u001b[39;00m:\n\u001b[1;32m   6068\u001b[0m     keyarr, indexer, new_indexer \u001b[38;5;241m=\u001b[39m \u001b[38;5;28mself\u001b[39m\u001b[38;5;241m.\u001b[39m_reindex_non_unique(keyarr)\n\u001b[0;32m-> 6070\u001b[0m \u001b[38;5;28;43mself\u001b[39;49m\u001b[38;5;241;43m.\u001b[39;49m\u001b[43m_raise_if_missing\u001b[49m\u001b[43m(\u001b[49m\u001b[43mkeyarr\u001b[49m\u001b[43m,\u001b[49m\u001b[43m \u001b[49m\u001b[43mindexer\u001b[49m\u001b[43m,\u001b[49m\u001b[43m \u001b[49m\u001b[43maxis_name\u001b[49m\u001b[43m)\u001b[49m\n\u001b[1;32m   6072\u001b[0m keyarr \u001b[38;5;241m=\u001b[39m \u001b[38;5;28mself\u001b[39m\u001b[38;5;241m.\u001b[39mtake(indexer)\n\u001b[1;32m   6073\u001b[0m \u001b[38;5;28;01mif\u001b[39;00m \u001b[38;5;28misinstance\u001b[39m(key, Index):\n\u001b[1;32m   6074\u001b[0m     \u001b[38;5;66;03m# GH 42790 - Preserve name from an Index\u001b[39;00m\n",
      "File \u001b[0;32m~/Desktop/Tesis-2024/myenv/lib/python3.8/site-packages/pandas/core/indexes/base.py:6133\u001b[0m, in \u001b[0;36mIndex._raise_if_missing\u001b[0;34m(self, key, indexer, axis_name)\u001b[0m\n\u001b[1;32m   6130\u001b[0m     \u001b[38;5;28;01mraise\u001b[39;00m \u001b[38;5;167;01mKeyError\u001b[39;00m(\u001b[38;5;124mf\u001b[39m\u001b[38;5;124m\"\u001b[39m\u001b[38;5;124mNone of [\u001b[39m\u001b[38;5;132;01m{\u001b[39;00mkey\u001b[38;5;132;01m}\u001b[39;00m\u001b[38;5;124m] are in the [\u001b[39m\u001b[38;5;132;01m{\u001b[39;00maxis_name\u001b[38;5;132;01m}\u001b[39;00m\u001b[38;5;124m]\u001b[39m\u001b[38;5;124m\"\u001b[39m)\n\u001b[1;32m   6132\u001b[0m not_found \u001b[38;5;241m=\u001b[39m \u001b[38;5;28mlist\u001b[39m(ensure_index(key)[missing_mask\u001b[38;5;241m.\u001b[39mnonzero()[\u001b[38;5;241m0\u001b[39m]]\u001b[38;5;241m.\u001b[39munique())\n\u001b[0;32m-> 6133\u001b[0m \u001b[38;5;28;01mraise\u001b[39;00m \u001b[38;5;167;01mKeyError\u001b[39;00m(\u001b[38;5;124mf\u001b[39m\u001b[38;5;124m\"\u001b[39m\u001b[38;5;132;01m{\u001b[39;00mnot_found\u001b[38;5;132;01m}\u001b[39;00m\u001b[38;5;124m not in index\u001b[39m\u001b[38;5;124m\"\u001b[39m)\n",
      "\u001b[0;31mKeyError\u001b[0m: \"['MACD', 'Signal', 'ADX', 'SlowK', 'SlowD', 'CCI', 'ATR'] not in index\""
     ]
    }
   ],
   "source": [
    "auto_ml_prophet_df = pd.read_csv('auto_timeseries_models_prophet/predicciones.csv')\n",
    "auto_mp_prophet_predictions = voting_model.predict(auto_ml_prophet_df[columns].drop(columns=[\"Open_time\"]))\n",
    "display(auto_mp_prophet_predictions)"
   ]
  },
  {
   "cell_type": "markdown",
   "metadata": {},
   "source": [
    "##### Datos generados por auto ml con stats:"
   ]
  },
  {
   "cell_type": "code",
   "execution_count": null,
   "metadata": {},
   "outputs": [
    {
     "data": {
      "text/plain": [
       "array(['Bajista', 'Bajista', 'Bajista', 'Bajista', 'Bajista', 'Bajista',\n",
       "       'Bajista', 'Bajista', 'Bajista', 'Bajista'], dtype=object)"
      ]
     },
     "metadata": {},
     "output_type": "display_data"
    }
   ],
   "source": [
    "auto_ml_stats_df = pd.read_csv('auto_timeseries_models/predicciones.csv')\n",
    "auto_mp_stats_predictions = voting_model.predict(auto_ml_stats_df[columns].drop(columns=[\"Open_time\"]))\n",
    "\n",
    "display(auto_mp_stats_predictions)"
   ]
  },
  {
   "cell_type": "markdown",
   "metadata": {},
   "source": [
    "##### Datos generados por auto ml con modelos clasicos:"
   ]
  },
  {
   "cell_type": "code",
   "execution_count": null,
   "metadata": {},
   "outputs": [
    {
     "data": {
      "text/plain": [
       "array(['Bajista', 'Bajista', 'Bajista', 'Bajista', 'Bajista', 'Bajista',\n",
       "       'Bajista', 'Bajista', 'Bajista', 'Bajista'], dtype=object)"
      ]
     },
     "metadata": {},
     "output_type": "display_data"
    }
   ],
   "source": [
    "auto_ml_df = pd.read_csv('h2o_models/predicciones.csv')\n",
    "auto_mp_predictions = voting_model.predict(auto_ml_df[columns].drop(columns=[\"Open_time\"]))\n",
    "display(auto_mp_predictions)"
   ]
  },
  {
   "cell_type": "markdown",
   "metadata": {},
   "source": [
    "##### Datos generados por auto ml con skforecast:"
   ]
  },
  {
   "cell_type": "code",
   "execution_count": null,
   "metadata": {},
   "outputs": [
    {
     "data": {
      "text/plain": [
       "array(['Bajista', 'Lateral', 'Alcista', 'Alcista', 'Alcista', 'Alcista',\n",
       "       'Alcista', 'Alcista', 'Alcista', 'Alcista'], dtype=object)"
      ]
     },
     "metadata": {},
     "output_type": "display_data"
    }
   ],
   "source": [
    "skforecast_df = pd.read_csv('skforecast/predicciones.csv')\n",
    "skforecast_predictions = voting_model.predict(skforecast_df[columns[1:]])\n",
    "display(skforecast_predictions)"
   ]
  }
 ],
 "metadata": {
  "kernelspec": {
   "display_name": "myenv",
   "language": "python",
   "name": "python3"
  },
  "language_info": {
   "codemirror_mode": {
    "name": "ipython",
    "version": 3
   },
   "file_extension": ".py",
   "mimetype": "text/x-python",
   "name": "python",
   "nbconvert_exporter": "python",
   "pygments_lexer": "ipython3",
   "version": "3.8.8"
  }
 },
 "nbformat": 4,
 "nbformat_minor": 2
}
